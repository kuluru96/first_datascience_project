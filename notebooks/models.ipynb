{
 "metadata": {
  "language_info": {
   "codemirror_mode": {
    "name": "ipython",
    "version": 3
   },
   "file_extension": ".py",
   "mimetype": "text/x-python",
   "name": "python",
   "nbconvert_exporter": "python",
   "pygments_lexer": "ipython3",
   "version": "3.6.9-final"
  },
  "orig_nbformat": 2,
  "kernelspec": {
   "name": "python3",
   "display_name": "Python 3",
   "language": "python"
  }
 },
 "nbformat": 4,
 "nbformat_minor": 2,
 "cells": [
  {
   "cell_type": "code",
   "execution_count": 1,
   "metadata": {},
   "outputs": [],
   "source": [
    "import numpy as np \n",
    "import pandas as pd\n",
    "import os\n"
   ]
  },
  {
   "cell_type": "code",
   "execution_count": 2,
   "metadata": {},
   "outputs": [],
   "source": [
    "processed_data_path = os.path.join(os.path.pardir,'data','processed')\n",
    "train_file_path = os.path.join(processed_data_path,'train.csv')\n",
    "test_file_path = os.path.join(processed_data_path,'test.csv')"
   ]
  },
  {
   "cell_type": "code",
   "execution_count": 9,
   "metadata": {},
   "outputs": [],
   "source": [
    " train_df = pd.read_csv(train_file_path, index_col = 'PassengerId')\n",
    " test_df = pd.read_csv(test_file_path, index_col = 'PassengerId')"
   ]
  },
  {
   "cell_type": "code",
   "execution_count": 10,
   "metadata": {},
   "outputs": [
    {
     "output_type": "stream",
     "name": "stdout",
     "text": [
      "<class 'pandas.core.frame.DataFrame'>\nInt64Index: 891 entries, 1 to 891\nData columns (total 33 columns):\n #   Column              Non-Null Count  Dtype  \n---  ------              --------------  -----  \n 0   Survived            891 non-null    int64  \n 1   Age                 891 non-null    float64\n 2   Fare                891 non-null    float64\n 3   FamilySize          891 non-null    int64  \n 4   IsMother            891 non-null    int64  \n 5   IsMale              891 non-null    int64  \n 6   Deck_A              891 non-null    int64  \n 7   Deck_B              891 non-null    int64  \n 8   Deck_C              891 non-null    int64  \n 9   Deck_D              891 non-null    int64  \n 10  Deck_E              891 non-null    int64  \n 11  Deck_F              891 non-null    int64  \n 12  Deck_G              891 non-null    int64  \n 13  Deck_Z              891 non-null    int64  \n 14  Pclass_1            891 non-null    int64  \n 15  Pclass_2            891 non-null    int64  \n 16  Pclass_3            891 non-null    int64  \n 17  Title_Lady          891 non-null    int64  \n 18  Title_Master        891 non-null    int64  \n 19  Title_Miss          891 non-null    int64  \n 20  Title_Mr            891 non-null    int64  \n 21  Title_Mrs           891 non-null    int64  \n 22  Title_Officer       891 non-null    int64  \n 23  Title_Sir           891 non-null    int64  \n 24  Fare_Bin_very_low   891 non-null    int64  \n 25  Fare_Bin_low        891 non-null    int64  \n 26  Fare_Bin_high       891 non-null    int64  \n 27  Fare_Bin_very_high  891 non-null    int64  \n 28  Embarked_C          891 non-null    int64  \n 29  Embarked_Q          891 non-null    int64  \n 30  Embarked_S          891 non-null    int64  \n 31  AgeState_Adult      891 non-null    int64  \n 32  AgeState_Child      891 non-null    int64  \ndtypes: float64(2), int64(31)\nmemory usage: 236.7 KB\n<class 'pandas.core.frame.DataFrame'>\nInt64Index: 418 entries, 892 to 1309\nData columns (total 32 columns):\n #   Column              Non-Null Count  Dtype  \n---  ------              --------------  -----  \n 0   Age                 418 non-null    float64\n 1   Fare                418 non-null    float64\n 2   FamilySize          418 non-null    int64  \n 3   IsMother            418 non-null    int64  \n 4   IsMale              418 non-null    int64  \n 5   Deck_A              418 non-null    int64  \n 6   Deck_B              418 non-null    int64  \n 7   Deck_C              418 non-null    int64  \n 8   Deck_D              418 non-null    int64  \n 9   Deck_E              418 non-null    int64  \n 10  Deck_F              418 non-null    int64  \n 11  Deck_G              418 non-null    int64  \n 12  Deck_Z              418 non-null    int64  \n 13  Pclass_1            418 non-null    int64  \n 14  Pclass_2            418 non-null    int64  \n 15  Pclass_3            418 non-null    int64  \n 16  Title_Lady          418 non-null    int64  \n 17  Title_Master        418 non-null    int64  \n 18  Title_Miss          418 non-null    int64  \n 19  Title_Mr            418 non-null    int64  \n 20  Title_Mrs           418 non-null    int64  \n 21  Title_Officer       418 non-null    int64  \n 22  Title_Sir           418 non-null    int64  \n 23  Fare_Bin_very_low   418 non-null    int64  \n 24  Fare_Bin_low        418 non-null    int64  \n 25  Fare_Bin_high       418 non-null    int64  \n 26  Fare_Bin_very_high  418 non-null    int64  \n 27  Embarked_C          418 non-null    int64  \n 28  Embarked_Q          418 non-null    int64  \n 29  Embarked_S          418 non-null    int64  \n 30  AgeState_Adult      418 non-null    int64  \n 31  AgeState_Child      418 non-null    int64  \ndtypes: float64(2), int64(30)\nmemory usage: 107.8 KB\n"
     ]
    }
   ],
   "source": [
    "train_df.info()\n",
    "test_df.info()"
   ]
  },
  {
   "cell_type": "code",
   "execution_count": 15,
   "metadata": {},
   "outputs": [],
   "source": [
    "X = train_df.loc[:,'Age':].astype('float')\n",
    "y = train_df['Survived'].ravel()"
   ]
  },
  {
   "cell_type": "code",
   "execution_count": 17,
   "metadata": {},
   "outputs": [
    {
     "output_type": "stream",
     "name": "stdout",
     "text": [
      "(891, 32) (891,)\n"
     ]
    }
   ],
   "source": [
    "print(X.shape,y.shape)"
   ]
  },
  {
   "cell_type": "code",
   "execution_count": 20,
   "metadata": {},
   "outputs": [
    {
     "output_type": "stream",
     "name": "stdout",
     "text": [
      "(712, 32) (712,)\n(179, 32) (179,)\n"
     ]
    }
   ],
   "source": [
    "from sklearn.model_selection import train_test_split\n",
    "X_train, X_test, y_train, y_test = train_test_split(X, y, test_size = 0.2, random_state=0)\n",
    "print(X_train.shape,y_train.shape)\n",
    "print(X_test.shape,y_test.shape)"
   ]
  },
  {
   "cell_type": "code",
   "execution_count": 29,
   "metadata": {},
   "outputs": [
    {
     "output_type": "stream",
     "name": "stdout",
     "text": [
      "Mean survival in Train: 0.3834\nMean survival in Test: 0.3855\n"
     ]
    }
   ],
   "source": [
    "print('Mean survival in Train: {0:.4f}'.format(np.mean(y_train)))\n",
    "print('Mean survival in Test: {0:.4f}'.format(np.mean(y_test)))"
   ]
  },
  {
   "cell_type": "code",
   "execution_count": 31,
   "metadata": {},
   "outputs": [],
   "source": [
    "####Base line Model###\n",
    "\n",
    "import sklearn\n",
    "from sklearn.dummy import DummyClassifier\n",
    "from sklearn.metrics import accuracy_score, confusion_matrix, precision_score, recall_score "
   ]
  },
  {
   "cell_type": "code",
   "execution_count": 32,
   "metadata": {},
   "outputs": [
    {
     "output_type": "execute_result",
     "data": {
      "text/plain": [
       "DummyClassifier(random_state=0, strategy='most_frequent')"
      ]
     },
     "metadata": {},
     "execution_count": 32
    }
   ],
   "source": [
    "model_dummy = DummyClassifier(strategy='most_frequent', random_state=0)\n",
    "model_dummy.fit(X_train, y_train)"
   ]
  },
  {
   "cell_type": "code",
   "execution_count": 33,
   "metadata": {},
   "outputs": [
    {
     "output_type": "stream",
     "name": "stdout",
     "text": [
      "Score for baseline model : 0.614525\n"
     ]
    }
   ],
   "source": [
    "print('Score for baseline model : {0:2f}'.format(model_dummy.score(X_test, y_test)))"
   ]
  },
  {
   "cell_type": "code",
   "execution_count": 34,
   "metadata": {},
   "outputs": [
    {
     "output_type": "stream",
     "name": "stdout",
     "text": [
      "Score for baseline model : 0.614525\n"
     ]
    }
   ],
   "source": [
    "print('Accuracy for baseline model : {0:2f}'.format(accuracy_score(y_test, model_dummy.predict(X_test))))"
   ]
  },
  {
   "cell_type": "code",
   "execution_count": 36,
   "metadata": {},
   "outputs": [
    {
     "output_type": "stream",
     "name": "stdout",
     "text": [
      "Confusion Matrix for baseline model : [[110   0]\n [ 69   0]]\n"
     ]
    }
   ],
   "source": [
    "print('Confusion Matrix for baseline model : {0}'.format(confusion_matrix(y_test, model_dummy.predict(X_test))))"
   ]
  },
  {
   "cell_type": "code",
   "execution_count": 37,
   "metadata": {},
   "outputs": [
    {
     "output_type": "stream",
     "name": "stdout",
     "text": [
      "Recall for baseline model : 0.000000\nPrecision for baseline model : 0.000000\n"
     ]
    }
   ],
   "source": [
    "print('Recall for baseline model : {0:2f}'.format(recall_score(y_test, model_dummy.predict(X_test))))\n",
    "print('Precision for baseline model : {0:2f}'.format(precision_score(y_test, model_dummy.predict(X_test))))"
   ]
  },
  {
   "cell_type": "code",
   "execution_count": 41,
   "metadata": {},
   "outputs": [
    {
     "output_type": "execute_result",
     "data": {
      "text/plain": [
       "   PassengerId  Survived\n",
       "0          892         0\n",
       "1          893         0\n",
       "2          894         0\n",
       "3          895         0\n",
       "4          896         0"
      ],
      "text/html": "<div>\n<style scoped>\n    .dataframe tbody tr th:only-of-type {\n        vertical-align: middle;\n    }\n\n    .dataframe tbody tr th {\n        vertical-align: top;\n    }\n\n    .dataframe thead th {\n        text-align: right;\n    }\n</style>\n<table border=\"1\" class=\"dataframe\">\n  <thead>\n    <tr style=\"text-align: right;\">\n      <th></th>\n      <th>PassengerId</th>\n      <th>Survived</th>\n    </tr>\n  </thead>\n  <tbody>\n    <tr>\n      <th>0</th>\n      <td>892</td>\n      <td>0</td>\n    </tr>\n    <tr>\n      <th>1</th>\n      <td>893</td>\n      <td>0</td>\n    </tr>\n    <tr>\n      <th>2</th>\n      <td>894</td>\n      <td>0</td>\n    </tr>\n    <tr>\n      <th>3</th>\n      <td>895</td>\n      <td>0</td>\n    </tr>\n    <tr>\n      <th>4</th>\n      <td>896</td>\n      <td>0</td>\n    </tr>\n  </tbody>\n</table>\n</div>"
     },
     "metadata": {},
     "execution_count": 41
    }
   ],
   "source": [
    "####Kaggle Submission####\n",
    "\n",
    "test_X = test_df.astype('float')\n",
    "predictions = model_dummy.predict(test_X)\n",
    "\n",
    "df_submission = pd.DataFrame({'PassengerId' : test_df.index, 'Survived' : predictions})\n",
    "\n",
    "df_submission.head()\n"
   ]
  },
  {
   "cell_type": "code",
   "execution_count": 51,
   "metadata": {},
   "outputs": [],
   "source": [
    "def get_submission_file(model,filename):\n",
    "\n",
    "    test_X = test_df.astype('float')\n",
    "    predictions = model_dummy.predict(test_X)\n",
    "\n",
    "    df_submission = pd.DataFrame({'PassengerId' : test_df.index, 'Survived' : predictions})\n",
    "    submission_data_path = os.path.join(os.path.pardir,'data','external')\n",
    "    submission_file_path = os.path.join(submission_data_path,'01_dummy.csv')\n",
    "    df_submission.to_csv(submission_file_path, index=False)"
   ]
  },
  {
   "cell_type": "code",
   "execution_count": 52,
   "metadata": {},
   "outputs": [],
   "source": [
    "get_submission_file(model_dummy,'01_dummy.csv')"
   ]
  },
  {
   "cell_type": "code",
   "execution_count": 54,
   "metadata": {},
   "outputs": [
    {
     "output_type": "stream",
     "name": "stdout",
     "text": [
      "Score for baseline model : 0.832402\n"
     ]
    }
   ],
   "source": [
    "#####LOGISTIC REGRESSION####\n",
    "\n",
    "\n",
    "from sklearn.linear_model import LogisticRegression\n",
    "\n",
    "model_lr_1 = LogisticRegression(random_state=0)\n",
    "\n",
    "model_lr_1.fit(X_train, y_train)\n",
    "\n",
    "print('Score for baseline model : {0:2f}'.format(model_lr_1.score(X_test, y_test)))"
   ]
  },
  {
   "cell_type": "code",
   "execution_count": 56,
   "metadata": {},
   "outputs": [
    {
     "output_type": "stream",
     "name": "stdout",
     "text": [
      "Accuracy for Log Reg model : 0.832402\nConfusion Matrix for Log Reg model : [[95 15]\n [15 54]]\nRecall for Log Reg model : 0.782609\nPrecision for Log Reg model : 0.782609\n"
     ]
    }
   ],
   "source": [
    "print('Accuracy for Log Reg model : {0:2f}'.format(accuracy_score(y_test, model_lr_1.predict(X_test))))\n",
    "print('Confusion Matrix for Log Reg model : {0}'.format(confusion_matrix(y_test, model_lr_1.predict(X_test))))\n",
    "print('Recall for Log Reg model : {0:2f}'.format(recall_score(y_test, model_lr_1.predict(X_test))))\n",
    "print('Precision for Log Reg model : {0:2f}'.format(precision_score(y_test, model_lr_1.predict(X_test))))"
   ]
  },
  {
   "cell_type": "code",
   "execution_count": 57,
   "metadata": {},
   "outputs": [
    {
     "output_type": "execute_result",
     "data": {
      "text/plain": [
       "array([[-0.02957805,  0.00414578, -0.48810285,  0.55878437, -0.76107084,\n",
       "         0.12133852, -0.07416643, -0.35964014,  0.47360842,  1.01792804,\n",
       "         0.26480128, -0.04875499, -0.36231604,  0.90661927,  0.4916551 ,\n",
       "        -0.3654757 ,  0.10805048,  1.03871313,  0.52132587, -1.49058009,\n",
       "         1.16449316, -0.10040023, -0.20880365,  0.11932276,  0.22344492,\n",
       "         0.26960465,  0.42042634,  0.44317566,  0.47305624,  0.11656676,\n",
       "         0.33832147,  0.6944772 ]])"
      ]
     },
     "metadata": {},
     "execution_count": 57
    }
   ],
   "source": [
    "model_lr_1.coef_"
   ]
  },
  {
   "cell_type": "code",
   "execution_count": null,
   "metadata": {},
   "outputs": [],
   "source": [
    "get_submission_file(model_lr_1,'02_LR.csv')"
   ]
  }
 ]
}