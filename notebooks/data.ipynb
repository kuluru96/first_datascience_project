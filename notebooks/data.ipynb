{
 "metadata": {
  "language_info": {
   "codemirror_mode": {
    "name": "ipython",
    "version": 3
   },
   "file_extension": ".py",
   "mimetype": "text/x-python",
   "name": "python",
   "nbconvert_exporter": "python",
   "pygments_lexer": "ipython3",
   "version": "3.6.9-final"
  },
  "orig_nbformat": 2,
  "kernelspec": {
   "name": "python3",
   "display_name": "Python 3",
   "language": "python"
  }
 },
 "nbformat": 4,
 "nbformat_minor": 2,
 "cells": [
  {
   "cell_type": "code",
   "execution_count": 9,
   "metadata": {},
   "outputs": [],
   "source": [
    "import sqlite3\n",
    "\n",
    "import pymysql\n"
   ]
  },
  {
   "cell_type": "code",
   "execution_count": 10,
   "metadata": {},
   "outputs": [],
   "source": [
    "connection = sqlite3.connect(\"ClassroomDB.db\")\n",
    "connection.close()"
   ]
  },
  {
   "cell_type": "code",
   "execution_count": 11,
   "metadata": {},
   "outputs": [
    {
     "output_type": "error",
     "ename": "OperationalError",
     "evalue": "table class already exists",
     "traceback": [
      "\u001b[0;31m---------------------------------------------------------------------------\u001b[0m",
      "\u001b[0;31mOperationalError\u001b[0m                          Traceback (most recent call last)",
      "\u001b[0;32m<ipython-input-11-c8bb718d7a84>\u001b[0m in \u001b[0;36m<module>\u001b[0;34m\u001b[0m\n\u001b[1;32m     10\u001b[0m                     \u001b[0mmaths_marks\u001b[0m \u001b[0mINTEGER\u001b[0m\u001b[0;34m\u001b[0m\u001b[0;34m\u001b[0m\u001b[0m\n\u001b[1;32m     11\u001b[0m );\"\"\"\n\u001b[0;32m---> 12\u001b[0;31m \u001b[0mcursor\u001b[0m\u001b[0;34m.\u001b[0m\u001b[0mexecute\u001b[0m\u001b[0;34m(\u001b[0m\u001b[0mcreate_table\u001b[0m\u001b[0;34m)\u001b[0m\u001b[0;34m\u001b[0m\u001b[0;34m\u001b[0m\u001b[0m\n\u001b[0m\u001b[1;32m     13\u001b[0m \u001b[0;34m\u001b[0m\u001b[0m\n\u001b[1;32m     14\u001b[0m \u001b[0mconnection\u001b[0m\u001b[0;34m.\u001b[0m\u001b[0mcommit\u001b[0m\u001b[0;34m(\u001b[0m\u001b[0;34m)\u001b[0m\u001b[0;34m\u001b[0m\u001b[0;34m\u001b[0m\u001b[0m\n",
      "\u001b[0;31mOperationalError\u001b[0m: table class already exists"
     ]
    }
   ],
   "source": [
    "###CREATE###\n",
    "connection = sqlite3.connect(\"ClassroomDB.db\")\n",
    "cursor = connection.cursor()\n",
    "create_table = \"\"\"  CREATE TABLE class (\n",
    "                    student_id INTEGER PRIMARY KEY,\n",
    "                    name VARCHAR(20),\n",
    "                    gender CHAR(1),\n",
    "                    phy_marks INTEGER,\n",
    "                    che_marks INTEGER,\n",
    "                    maths_marks INTEGER\n",
    ");\"\"\"\n",
    "cursor.execute(create_table)\n",
    "\n",
    "connection.commit()\n",
    "connection.close()"
   ]
  },
  {
   "cell_type": "code",
   "execution_count": null,
   "metadata": {},
   "outputs": [],
   "source": [
    "###INSERT###\n",
    "class_data = [( 1, \"Alex\", \"M\", 78, 89, 90),\n",
    "              ( 2, \"Bob\", \"M\", 56, 89, 45 ),\n",
    "              ( 3, \"Clara\", \"F\", 74, 67, 78 ),\n",
    "              ( 4, \"Danny\", \"F\", 84, 91, 57 )]\n",
    "connection = sqlite3.connect(\"ClassroomDB.db\")\n",
    "cursor = connection.cursor()\n",
    "for student in class_data:\n",
    "    insert_statement = \"\"\"INSERT INTO class (student_id, name, gender, phy_marks, che_marks, maths_marks)\n",
    "                            VALUES ({0},\"{1}\",\"{2}\",{3},{4},{5});\"\"\".format(student[0], student[1], student[2], student[3], student[4], student[5])\n",
    "\n",
    "    cursor.execute(insert_statement)\n",
    "connection.commit()\n",
    "connection.close()"
   ]
  },
  {
   "cell_type": "code",
   "execution_count": null,
   "metadata": {},
   "outputs": [],
   "source": [
    "###SELECT###\n",
    "connection = sqlite3.connect(\"ClassroomDB.db\")\n",
    "cursor = connection.cursor()\n",
    "query = \"SELECT * FROM class\"\n",
    "cursor.execute(query)\n",
    "result = cursor.fetchall()\n",
    "\n",
    "for row in result:\n",
    "    print(row)\n",
    "connection.close()"
   ]
  },
  {
   "cell_type": "code",
   "execution_count": null,
   "metadata": {},
   "outputs": [],
   "source": [
    "####MYSQL###\n",
    "cnx = {'host' : 'mysqldb.c12wj3xlqsae.us-west-2.rds.amazonaws.com',\n",
    "        'username' : 'test',\n",
    "        'password' : 'test123456',\n",
    "        'db' : 'ClassroomDB'}\n",
    "connection = pymysql.connect(cnx['host'],cnx['username'],cnx['password'],cnx['db'])\n",
    "\n",
    "connection.close()\n",
    "\n",
    "\n"
   ]
  },
  {
   "cell_type": "code",
   "execution_count": null,
   "metadata": {},
   "outputs": [],
   "source": [
    "######EXTRACTING DATA USING APIs#####\n",
    "\n",
    "\n",
    "import requests"
   ]
  },
  {
   "cell_type": "code",
   "execution_count": null,
   "metadata": {},
   "outputs": [],
   "source": [
    "url ='https://api.data.gov/ed/collegescorecard/v1/schools?api_key=TPBtnnS7vtlKbO2VPfLFcgNtOIBgXNrqER8efzBR'\n",
    "\n",
    "\n",
    "result = requests.get(url)\n",
    "\n",
    "result.headers\n"
   ]
  },
  {
   "cell_type": "code",
   "execution_count": null,
   "metadata": {},
   "outputs": [],
   "source": [
    "result.status_code"
   ]
  },
  {
   "cell_type": "code",
   "execution_count": null,
   "metadata": {},
   "outputs": [],
   "source": [
    "result.json()"
   ]
  },
  {
   "cell_type": "code",
   "execution_count": null,
   "metadata": {},
   "outputs": [],
   "source": [
    "import requests\n",
    "from bs4 import BeautifulSoup\n"
   ]
  },
  {
   "cell_type": "code",
   "execution_count": null,
   "metadata": {},
   "outputs": [],
   "source": [
    "from dotenv import load_dotenv, find_dotenv"
   ]
  },
  {
   "cell_type": "code",
   "execution_count": null,
   "metadata": {},
   "outputs": [],
   "source": [
    "dotenv_path = find_dotenv()\n",
    "\n",
    "load_dotenv(dotenv_path)"
   ]
  },
  {
   "cell_type": "code",
   "execution_count": 15,
   "metadata": {},
   "outputs": [],
   "source": [
    "import json\n",
    "import os\n",
    "\n",
    "api_file_path = os.path.join(os.path.pardir,'kaggle.json')\n",
    "with open(api_file_path) as f:\n",
    "    kaggle_token = json.load(f)\n",
    "    os.environ[\"KAGGLE_USERNAME\"] = kaggle_token['username']\n",
    "    os.environ[\"KAGGLE_KEY\"] = kaggle_token['key']\n"
   ]
  },
  {
   "cell_type": "code",
   "execution_count": 18,
   "metadata": {},
   "outputs": [
    {
     "output_type": "stream",
     "name": "stderr",
     "text": [
      "100%|██████████| 59.8k/59.8k [00:00<00:00, 1.04MB/s]Downloading train.csv to ../data/raw\n",
      "\n",
      "\n",
      "100%|██████████| 28.0k/28.0k [00:00<00:00, 25.5MB/s]Downloading test.csv to ../data/raw\n",
      "\n",
      "\n"
     ]
    }
   ],
   "source": [
    "from kaggle.api.kaggle_api_extended import KaggleApi\n",
    "\n",
    "api =  KaggleApi()\n",
    "api.authenticate()\n",
    "raw_data_path = os.path.join(os.path.pardir,'data','raw')\n",
    "api.competition_download_file(competition = 'titanic', file_name = 'train.csv', path=raw_data_path, force=True)\n",
    "api.competition_download_file(competition = 'titanic', file_name = 'test.csv', path=raw_data_path, force=True)\n"
   ]
  },
  {
   "cell_type": "code",
   "execution_count": 26,
   "metadata": {},
   "outputs": [],
   "source": [
    "train_data_path = os.path.join(raw_data_path, 'train.csv')\n"
   ]
  },
  {
   "cell_type": "code",
   "execution_count": 12,
   "metadata": {},
   "outputs": [],
   "source": [
    "get_raw_data_script_file = os.path.join(os.path.pardir,'src','data','get_raw_data.py')\n"
   ]
  },
  {
   "cell_type": "code",
   "execution_count": 13,
   "metadata": {},
   "outputs": [
    {
     "output_type": "stream",
     "name": "stdout",
     "text": [
      "Writing ../src/data/get_raw_data.py\n"
     ]
    }
   ],
   "source": [
    "%%writefile $get_raw_data_script_file\n",
    "# -*- coding: utf-8 -*-\n",
    "import json\n",
    "import os\n",
    "import logging\n",
    "\n",
    "# getting root directory\n",
    "project_dir = os.path.join(os.path.dirname(__file__), os.pardir, os.pardir)\n",
    "# read kaggle API token and create enviornment variables\n",
    "api_file_path = os.path.join(project_dir,'kaggle.json')\n",
    "with open(api_file_path) as f:\n",
    "    kaggle_token = json.load(f)\n",
    "    # environment variable for kaggle authentication\n",
    "    os.environ[\"KAGGLE_USERNAME\"] = kaggle_token['username']\n",
    "    os.environ[\"KAGGLE_KEY\"] = kaggle_token['key']\n",
    "\n",
    "\n",
    "from kaggle.api.kaggle_api_extended import KaggleApi\n",
    "\n",
    "def main(project_dir):\n",
    "    '''\n",
    "    main method\n",
    "    '''\n",
    "    # get logger\n",
    "    logger = logging.getLogger(__name__)\n",
    "    logger.info('getting raw data')\n",
    "    \n",
    "    # file name : check from the competition data page\n",
    "    train_file_name = 'train.csv'\n",
    "    test_file_name = 'test.csv'\n",
    "\n",
    "    # file paths\n",
    "    raw_data_path = os.path.join(project_dir,'data','raw')\n",
    "    \n",
    "    # extract data\n",
    "    api = KaggleApi()\n",
    "    api.authenticate()\n",
    "    api.competition_download_file(competition='titanic', file_name=train_file_name, path=raw_data_path, force=True)\n",
    "    api.competition_download_file(competition='titanic', file_name=test_file_name, path=raw_data_path, force=True)\n",
    "    logger.info('downloaded raw training and test data')\n",
    "\n",
    "\n",
    "if __name__ == '__main__':\n",
    "    \n",
    "    # setup logger\n",
    "    log_fmt = '%(asctime)s - %(name)s - %(levelname)s - %(message)s'\n",
    "    logging.basicConfig(level=logging.INFO, format=log_fmt)\n",
    "\n",
    "    # call the main\n",
    "    main(project_dir)"
   ]
  },
  {
   "cell_type": "code",
   "execution_count": 18,
   "metadata": {},
   "outputs": [
    {
     "output_type": "stream",
     "name": "stdout",
     "text": [
      "2021-02-06 14:51:54,375 - __main__ - INFO - getting raw data\n",
      "Downloading train.csv to ../src/data/../../data/raw\n",
      "  0%|                                               | 0.00/59.8k [00:00<?, ?B/s]\n",
      "100%|██████████████████████████████████████| 59.8k/59.8k [00:00<00:00, 1.59MB/s]\n",
      "Downloading test.csv to ../src/data/../../data/raw\n",
      "  0%|                                               | 0.00/28.0k [00:00<?, ?B/s]\n",
      "100%|██████████████████████████████████████| 28.0k/28.0k [00:00<00:00, 2.17MB/s]\n",
      "2021-02-06 14:51:56,236 - __main__ - INFO - downloaded raw training and test data\n"
     ]
    }
   ],
   "source": [
    "!python $get_raw_data_script_file\n"
   ]
  },
  {
   "cell_type": "code",
   "execution_count": null,
   "metadata": {},
   "outputs": [],
   "source": []
  }
 ]
}